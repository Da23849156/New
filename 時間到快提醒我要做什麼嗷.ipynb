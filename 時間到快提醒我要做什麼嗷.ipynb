{
 "cells": [
  {
   "cell_type": "code",
   "execution_count": 1,
   "metadata": {},
   "outputs": [],
   "source": [
    "import time"
   ]
  },
  {
   "cell_type": "code",
   "execution_count": 4,
   "metadata": {},
   "outputs": [
    {
     "name": "stdout",
     "output_type": "stream",
     "text": [
      "請問我要提醒你什麼？：秉翰快去減肥\n",
      "請問幾分鐘後提醒你？：0.1\n",
      "秉翰快去減肥\n",
      "秉翰快去減肥\n",
      "秉翰快去減肥\n",
      "秉翰快去減肥\n",
      "秉翰快去減肥\n",
      "秉翰快去減肥\n",
      "秉翰快去減肥\n",
      "秉翰快去減肥\n",
      "秉翰快去減肥\n"
     ]
    }
   ],
   "source": [
    "text=input('請問我要提醒你什麼？：')\n",
    "timning=input('請問幾分鐘後提醒你？：')\n",
    "confirm_time=float(timning)*60\n",
    "time.sleep(confirm_time)\n",
    "for i in range(1,10):\n",
    "    print(text)\n",
    "    time.sleep(3)\n"
   ]
  },
  {
   "cell_type": "code",
   "execution_count": null,
   "metadata": {},
   "outputs": [],
   "source": []
  }
 ],
 "metadata": {
  "kernelspec": {
   "display_name": "Python 3",
   "language": "python",
   "name": "python3"
  }
 },
 "nbformat": 4,
 "nbformat_minor": 2
}
