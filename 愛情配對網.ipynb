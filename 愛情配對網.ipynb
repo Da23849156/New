{
 "cells": [
  {
   "cell_type": "code",
   "execution_count": 4,
   "metadata": {},
   "outputs": [
    {
     "name": "stdout",
     "output_type": "stream",
     "text": [
      "歡迎來到愛情配對網\n",
      "請輸入你的名字：秉翰\n",
      "請輸入對方的名字小肥貓\n",
      "秉翰和小肥貓的適配指數為87%\n",
      "天啊超配！趕快告白吧！！\n"
     ]
    }
   ],
   "source": [
    "import random\n",
    "\n",
    "\n",
    "print('歡迎來到愛情配對網')\n",
    "people1=input('請輸入你的名字：')\n",
    "people2=input('請輸入對方的名字')\n",
    "rnd=random.randint(0,100)\n",
    "score=100-rnd\n",
    "print (people1+'和'+people2+'的適配指數為'+ str(score) + \"%\") \n",
    "\n",
    "if score>80:\n",
    "    print('天啊超配！趕快告白吧！！')\n",
    "elif 50<=score<80:\n",
    "    print('還不錯呦 ><')\n",
    "else:\n",
    "    print('你還是找個新對象吧！')\n",
    "        \n"
   ]
  },
  {
   "cell_type": "code",
   "execution_count": null,
   "metadata": {},
   "outputs": [],
   "source": []
  }
 ],
 "metadata": {
  "kernelspec": {
   "display_name": "Python 3",
   "language": "python",
   "name": "python3"
  },
  "language_info": {
   "codemirror_mode": {
    "name": "ipython",
    "version": 3
   },
   "file_extension": ".py",
   "mimetype": "text/x-python",
   "name": "python",
   "nbconvert_exporter": "python",
   "pygments_lexer": "ipython3",
   "version": "3.7.4"
  }
 },
 "nbformat": 4,
 "nbformat_minor": 2
}
