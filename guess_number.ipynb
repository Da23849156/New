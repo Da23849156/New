{
 "cells": [
  {
   "cell_type": "code",
   "execution_count": 1,
   "metadata": {},
   "outputs": [],
   "source": [
    "from random import randint"
   ]
  },
  {
   "cell_type": "code",
   "execution_count": 2,
   "metadata": {},
   "outputs": [],
   "source": [
    "first=1\n",
    "last=10\n",
    "number=randint(first,last)"
   ]
  },
  {
   "cell_type": "code",
   "execution_count": 3,
   "metadata": {},
   "outputs": [
    {
     "name": "stdout",
     "output_type": "stream",
     "text": [
      "4\n"
     ]
    }
   ],
   "source": [
    "print(number)"
   ]
  },
  {
   "cell_type": "code",
   "execution_count": 4,
   "metadata": {},
   "outputs": [
    {
     "name": "stdout",
     "output_type": "stream",
     "text": [
      "請輸入一個介於1到10的密碼：2\n",
      "請輸入一個介於2到10的密碼：8\n",
      "請輸入一個介於2到8的密碼：5\n",
      "請輸入一個介於2到5的密碼：4\n",
      "正確\n"
     ]
    }
   ],
   "source": [
    "a=0\n",
    "while a==0:\n",
    "    ans=input('請輸入一個介於'+str(first)+'到'+str(last)+'的密碼：')\n",
    "    try:\n",
    "        ans=int(ans)\n",
    "    except:\n",
    "        print('請輸入數字')\n",
    "        continue\n",
    "    \n",
    "    if last<=ans or ans<=first:\n",
    "        print('請輸入符合範圍的密碼')\n",
    "        \n",
    "        continue\n",
    "    if ans==number:\n",
    "        print('正確')\n",
    "        break\n",
    "    elif ans<number:\n",
    "        first=ans\n",
    "    else:\n",
    "        last=ans"
   ]
  },
  {
   "cell_type": "code",
   "execution_count": null,
   "metadata": {},
   "outputs": [],
   "source": []
  }
 ],
 "metadata": {
  "kernelspec": {
   "display_name": "Python 3",
   "language": "python",
   "name": "python3"
  },
  "language_info": {
   "codemirror_mode": {
    "name": "ipython",
    "version": 3
   },
   "file_extension": ".py",
   "mimetype": "text/x-python",
   "name": "python",
   "nbconvert_exporter": "python",
   "pygments_lexer": "ipython3",
   "version": "3.7.4"
  }
 },
 "nbformat": 4,
 "nbformat_minor": 2
}
