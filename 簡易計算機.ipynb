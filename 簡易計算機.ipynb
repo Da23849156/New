{
 "cells": [
  {
   "cell_type": "code",
   "execution_count": 5,
   "metadata": {},
   "outputs": [
    {
     "name": "stdout",
     "output_type": "stream",
     "text": [
      "謝謝您使用本計算機，您可使用的選項有：\n",
      "1.加法\n",
      "2.減法\n",
      "3.乘法\n",
      "4.除法\n",
      "請選擇你要的選項(1,2,3,4)，輸入end離開：1\n",
      "請輸入第一個數字1\n",
      "請輸入第二個數字2\n",
      "1 + 2 = 3\n",
      "請選擇你要的選項(1,2,3,4)，輸入end離開：2\n",
      "請輸入第一個數字1\n",
      "請輸入第二個數字2\n",
      "1 - 2 = -1\n",
      "請選擇你要的選項(1,2,3,4)，輸入end離開：3\n",
      "請輸入第一個數字1\n",
      "請輸入第二個數字2\n",
      "1 x 2 = 2\n",
      "請選擇你要的選項(1,2,3,4)，輸入end離開：4\n",
      "請輸入第一個數字1\n",
      "請輸入第二個數字2\n",
      "1 / 2 = 0.5\n",
      "請選擇你要的選項(1,2,3,4)，輸入end離開：end\n",
      "謝謝使用\n"
     ]
    }
   ],
   "source": [
    "def add(x,y):\n",
    "    return x+y\n",
    "\n",
    "def subtract(x,y):\n",
    "    return x-y\n",
    "\n",
    "def multiply(x,y):\n",
    "    return x*y\n",
    "\n",
    "def divide(x,y):\n",
    "    return x/y\n",
    "\n",
    "def number():\n",
    "    a=int(input('請輸入第一個數字'))\n",
    "    b=int(input('請輸入第二個數字'))\n",
    "    return a,b\n",
    "\n",
    "\n",
    "\n",
    "print('謝謝您使用本計算機，您可使用的選項有：')\n",
    "print(\"1.加法\\n2.減法\\n3.乘法\\n4.除法\")\n",
    "\n",
    "while True:\n",
    "    ans=input('請選擇你要的選項(1,2,3,4)，輸入end離開：')\n",
    "    if ans=='1':\n",
    "        a,b=number()\n",
    "        print(a,'+',b,'=',add(a,b))\n",
    "    elif ans=='2':\n",
    "        a,b=number()\n",
    "        print(a,'-',b,'=',subtract(a,b))\n",
    "    elif ans=='3':\n",
    "        a,b=number()\n",
    "        print(a,'x',b,'=',multiply(a,b))\n",
    "    elif ans=='4':\n",
    "        a,b=number()\n",
    "        print(a,'/',b,'=',divide(a,b))\n",
    "    elif ans=='end':\n",
    "        print('謝謝使用')\n",
    "        break\n",
    "    else:\n",
    "        print('請輸入正確的還硬')\n",
    "    \n",
    "    "
   ]
  },
  {
   "cell_type": "code",
   "execution_count": null,
   "metadata": {},
   "outputs": [],
   "source": []
  }
 ],
 "metadata": {
  "kernelspec": {
   "display_name": "Python 3",
   "language": "python",
   "name": "python3"
  }
 },
 "nbformat": 4,
 "nbformat_minor": 2
}
