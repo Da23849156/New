{
 "cells": [
  {
   "cell_type": "code",
   "execution_count": 8,
   "metadata": {},
   "outputs": [],
   "source": [
    "def factors(x):\n",
    "    print(x,'的因子總共有：')\n",
    "    for i in range(1,x+1):\n",
    "        if x%i==0:\n",
    "            print(i)"
   ]
  },
  {
   "cell_type": "code",
   "execution_count": 9,
   "metadata": {},
   "outputs": [
    {
     "name": "stdout",
     "output_type": "stream",
     "text": [
      "請輸入數字：f\n",
      "錯誤！請輸入數字\n",
      "請輸入數字：hi\n",
      "錯誤！請輸入數字\n",
      "請輸入數字：125\n",
      "125 的因子總共有：\n",
      "1\n",
      "5\n",
      "25\n",
      "125\n"
     ]
    }
   ],
   "source": [
    "while True:\n",
    "    try:\n",
    "        num=int(input('請輸入數字：'))\n",
    "        factors(num)\n",
    "        break\n",
    "    except:\n",
    "        print('錯誤！請輸入數字')\n"
   ]
  }
 ],
 "metadata": {
  "kernelspec": {
   "display_name": "Python 3",
   "language": "python",
   "name": "python3"
  },
  "language_info": {
   "codemirror_mode": {
    "name": "ipython",
    "version": 3
   },
   "file_extension": ".py",
   "mimetype": "text/x-python",
   "name": "python",
   "nbconvert_exporter": "python",
   "pygments_lexer": "ipython3",
   "version": "3.7.4"
  }
 },
 "nbformat": 4,
 "nbformat_minor": 2
}
