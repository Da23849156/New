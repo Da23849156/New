{
 "cells": [
  {
   "cell_type": "code",
   "execution_count": 16,
   "metadata": {},
   "outputs": [],
   "source": [
    "import random\n",
    "import time"
   ]
  },
  {
   "cell_type": "markdown",
   "metadata": {},
   "source": [
    "**隨機決定幸運草葉片數**\n",
    "\n",
    "10片應該超級多了哈哈"
   ]
  },
  {
   "cell_type": "code",
   "execution_count": 29,
   "metadata": {},
   "outputs": [
    {
     "name": "stdout",
     "output_type": "stream",
     "text": [
      "請輸入你喜歡的對象：tim \n",
      "tim 愛我\n",
      "tim 不愛我\n",
      "tim 愛我\n",
      "tim 不愛我\n"
     ]
    }
   ],
   "source": [
    "number=random.randint(3,10)\n",
    "choose=random.randint(0,1)\n",
    "a=input('請輸入你喜歡的對象：')\n",
    "s=a+'愛我'\n",
    "b=a+'不愛我'\n",
    "i=1\n",
    "\n",
    "while number!=0:\n",
    "    if choose==0:\n",
    "        if i%2!=0:\n",
    "            print(s)\n",
    "        else:\n",
    "            print(b)\n",
    "        i+=1\n",
    "        number-=1\n",
    "        time.sleep(1)\n",
    "        \n",
    "    else:\n",
    "        if i%2!=0:\n",
    "            print(s)\n",
    "        else:\n",
    "            print(b)\n",
    "        i+=1\n",
    "        number-=1\n",
    "        time.sleep(1)\n",
    "\n",
    "        "
   ]
  },
  {
   "cell_type": "code",
   "execution_count": null,
   "metadata": {},
   "outputs": [],
   "source": []
  }
 ],
 "metadata": {
  "kernelspec": {
   "display_name": "Python 3",
   "language": "python",
   "name": "python3"
  },
  "language_info": {
   "codemirror_mode": {
    "name": "ipython",
    "version": 3
   },
   "file_extension": ".py",
   "mimetype": "text/x-python",
   "name": "python",
   "nbconvert_exporter": "python",
   "pygments_lexer": "ipython3",
   "version": "3.7.4"
  }
 },
 "nbformat": 4,
 "nbformat_minor": 2
}
